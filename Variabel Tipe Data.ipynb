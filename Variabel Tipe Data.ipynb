{
 "cells": [
  {
   "cell_type": "code",
   "execution_count": 4,
   "id": "82f6dd2c",
   "metadata": {},
   "outputs": [
    {
     "ename": "SyntaxError",
     "evalue": "invalid syntax (4113196943.py, line 1)",
     "output_type": "error",
     "traceback": [
      "\u001b[1;36m  Input \u001b[1;32mIn [4]\u001b[1;36m\u001b[0m\n\u001b[1;33m    <h1>Variabel dan Tipe Data</h1><hr>\u001b[0m\n\u001b[1;37m    ^\u001b[0m\n\u001b[1;31mSyntaxError\u001b[0m\u001b[1;31m:\u001b[0m invalid syntax\n"
     ]
    }
   ],
   "source": [
    "<h1>Variabel dan Tipe Data</h1><hr>\n",
    "Tipe Data pada Python adalah :\n",
    "<ol>\n",
    "    <li>Float - (float)</li>\n",
    "    <li>String - (str) </li>\n",
    "    <li>Boolean - (bool) </li>\n",
    "    <li>Integer - (int) </li>\n",
    "</ol><hr>\n",
    "Aturan Penamaan Variabel :\n",
    "<ul>\n",
    "    <li>Tidak boleh menggunakan spasi</li>\n",
    "    <li>Bersifat case sensitive => A != a</li>\n",
    "    <li>Terdiri dari huruf, angka dan karakter</li>\n",
    "    <li>Diawali underscore atau huruf</li>\n",
    "    <li>Tidak boleh menggunakan reserved keyword</li>\n",
    "</ul>\n",
    "    "
   ]
  },
  {
   "cell_type": "code",
   "execution_count": 17,
   "id": "1062ce87",
   "metadata": {},
   "outputs": [
    {
     "name": "stdout",
     "output_type": "stream",
     "text": [
      "100\n",
      "50.6\n",
      "1\n",
      "True\n"
     ]
    }
   ],
   "source": [
    "data_integer = 100\n",
    "data_float = 50.6\n",
    "data_string = \"1\"\n",
    "data_boolean =  True\n",
    "\n",
    "data_string \n",
    "print(data_integer)\n",
    "print(data_float)\n",
    "print(data_string)\n",
    "print(data_boolean)\n"
   ]
  },
  {
   "cell_type": "code",
   "execution_count": 7,
   "id": "b2017eca",
   "metadata": {},
   "outputs": [
    {
     "name": "stdout",
     "output_type": "stream",
     "text": [
      "<class 'int'>\n",
      "<class 'float'>\n",
      "<class 'str'>\n",
      "<class 'bool'>\n"
     ]
    }
   ],
   "source": [
    "print(type(data_integer))\n",
    "print(type(data_float))\n",
    "print(type(data_string))\n",
    "print(type(data_boolean))\n"
   ]
  },
  {
   "cell_type": "markdown",
   "id": "e47198d0",
   "metadata": {},
   "source": [
    "<h3><font color=\"pink\"><i>Konversi Tipe Data dari Integer ke (String,Float,Boolean)</h3>"
   ]
  },
  {
   "cell_type": "code",
   "execution_count": 8,
   "id": "84261416",
   "metadata": {},
   "outputs": [
    {
     "name": "stdout",
     "output_type": "stream",
     "text": [
      "Isi Bilangan 15\n",
      "Isi Bilangan 20\n",
      "50\n"
     ]
    }
   ],
   "source": [
    "bil1 = input(\"Isi Bilangan 1\")\n",
    "bil2 = input(\"Isi Bilangan 2\")\n",
    "hasil = bil1 + bil2\n",
    "print(hasil)"
   ]
  },
  {
   "cell_type": "code",
   "execution_count": 18,
   "id": "c04b8e3f",
   "metadata": {},
   "outputs": [
    {
     "name": "stdout",
     "output_type": "stream",
     "text": [
      "1\n",
      "50\n",
      "1\n",
      "<class 'int'>\n",
      "<class 'int'>\n",
      "<class 'int'>\n"
     ]
    }
   ],
   "source": [
    "string_to_int = int(data_string)\n",
    "float_to_int = int(data_float)\n",
    "bool_to_int = int(data_boolean)\n",
    "\n",
    "print(string_to_int)\n",
    "print(float_to_int)\n",
    "print(bool_to_int)\n",
    "\n",
    "print(type(string_to_int))\n",
    "print(type(float_to_int))\n",
    "print(type(bool_to_int))"
   ]
  },
  {
   "cell_type": "code",
   "execution_count": 21,
   "id": "5f4f1dfb",
   "metadata": {},
   "outputs": [
    {
     "name": "stdout",
     "output_type": "stream",
     "text": [
      "1.0\n",
      "100.0\n",
      "1.0\n",
      "<class 'float'>\n",
      "<class 'float'>\n",
      "<class 'float'>\n"
     ]
    }
   ],
   "source": [
    "string_to_float = float(data_string)\n",
    "integer_to_float = float(data_integer)\n",
    "bool_to_float = float(data_boolean)\n",
    "\n",
    "print(string_to_float)\n",
    "print(integer_to_float)\n",
    "print(bool_to_float)\n",
    "\n",
    "print(type(string_to_float))\n",
    "print(type(integer_to_float))\n",
    "print(type(bool_to_float))"
   ]
  },
  {
   "cell_type": "code",
   "execution_count": 23,
   "id": "7f89d64c",
   "metadata": {},
   "outputs": [
    {
     "name": "stdout",
     "output_type": "stream",
     "text": [
      "True\n",
      "True\n",
      "True\n",
      "<class 'bool'>\n",
      "<class 'bool'>\n",
      "<class 'bool'>\n"
     ]
    }
   ],
   "source": [
    "integer_to_bool = bool(data_integer)\n",
    "float_to_bool = bool(data_float)\n",
    "string_to_bool = bool(data_string)\n",
    "\n",
    "print(integer_to_bool)\n",
    "print(float_to_bool)\n",
    "print(string_to_bool)\n",
    "\n",
    "print(type(integer_to_bool))\n",
    "print(type(float_to_bool))\n",
    "print(type(string_to_bool))"
   ]
  },
  {
   "cell_type": "code",
   "execution_count": 25,
   "id": "9213ea59",
   "metadata": {},
   "outputs": [
    {
     "name": "stdout",
     "output_type": "stream",
     "text": [
      "100\n",
      "50.6\n",
      "True\n",
      "<class 'str'>\n",
      "<class 'str'>\n",
      "<class 'str'>\n"
     ]
    }
   ],
   "source": [
    "integer_to_string = str(data_integer)\n",
    "float_to_string = str(data_float)\n",
    "bool_to_string = str(data_boolean)\n",
    "\n",
    "print(integer_to_string)\n",
    "print(float_to_string)\n",
    "print(bool_to_string)\n",
    "\n",
    "print(type(integer_to_string))\n",
    "print(type(float_to_string))\n",
    "print(type(bool_to_string))"
   ]
  }
 ],
 "metadata": {
  "kernelspec": {
   "display_name": "Python 3 (ipykernel)",
   "language": "python",
   "name": "python3"
  },
  "language_info": {
   "codemirror_mode": {
    "name": "ipython",
    "version": 3
   },
   "file_extension": ".py",
   "mimetype": "text/x-python",
   "name": "python",
   "nbconvert_exporter": "python",
   "pygments_lexer": "ipython3",
   "version": "3.9.12"
  }
 },
 "nbformat": 4,
 "nbformat_minor": 5
}
